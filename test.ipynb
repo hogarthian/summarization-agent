{
 "cells": [
  {
   "cell_type": "code",
   "execution_count": 34,
   "metadata": {
    "collapsed": true
   },
   "outputs": [],
   "source": [
    "import json\n",
    "\n",
    "import whisper"
   ]
  },
  {
   "cell_type": "code",
   "execution_count": 2,
   "outputs": [
    {
     "name": "stderr",
     "output_type": "stream",
     "text": [
      "100%|███████████████████████████████████████| 139M/139M [00:04<00:00, 30.3MiB/s]\n"
     ]
    }
   ],
   "source": [
    "model = whisper.load_model(\"base\")"
   ],
   "metadata": {
    "collapsed": false
   }
  },
  {
   "cell_type": "code",
   "execution_count": 3,
   "outputs": [
    {
     "name": "stderr",
     "output_type": "stream",
     "text": [
      "/Users/bwen/personal/chatVideo/.venv/lib/python3.10/site-packages/whisper/transcribe.py:114: UserWarning: FP16 is not supported on CPU; using FP32 instead\n",
      "  warnings.warn(\"FP16 is not supported on CPU; using FP32 instead\")\n"
     ]
    },
    {
     "name": "stdout",
     "output_type": "stream",
     "text": [
      "Detecting language using up to the first 30 seconds. Use `--language` to specify the language\n",
      "Detected language: English\n",
      "[00:00.000 --> 00:08.160]  Can I ask just before we get started does IBM own WebX or something?\n",
      "[00:08.160 --> 00:10.800]  I hate WebX.\n",
      "[00:10.800 --> 00:11.800]  No offense.\n",
      "[00:11.800 --> 00:12.800]  Why are you going to go there?\n",
      "[00:12.800 --> 00:13.960]  Why are you going to go there?\n",
      "[00:13.960 --> 00:16.320]  No, I don't think Cisco owns WebX.\n",
      "[00:16.320 --> 00:17.320]  Okay.\n",
      "[00:17.320 --> 00:18.400]  Yeah, you're right.\n",
      "[00:18.400 --> 00:23.800]  It always makes me install some software.\n",
      "[00:23.800 --> 00:29.240]  I think all of the trick up there, UI stuff right underneath that thing in the non colored\n",
      "[00:29.240 --> 00:30.240]  action box.\n",
      "[00:30.240 --> 00:34.840]  There's usually a thing that says skip and join his guest or the other part too.\n",
      "[00:34.840 --> 00:35.840]  I'm in the same boat.\n",
      "[00:35.840 --> 00:39.720]  Once you've clicked it and you've bought the application, it tries to open the locally hosted\n",
      "[00:39.720 --> 00:41.240]  one all the time.\n",
      "[00:41.240 --> 00:43.480]  So I'm infected.\n",
      "[00:43.480 --> 00:46.480]  Yeah, I'm with you, Doug.\n",
      "[00:46.480 --> 00:50.160]  Every time I use WebX, it steals all priority control of all my device.\n",
      "[00:50.160 --> 00:53.680]  And then if I open Teams afterwards, like it doesn't talk to those anymore.\n",
      "[00:53.680 --> 00:58.360]  And so they don't play nice with others.\n",
      "[00:58.360 --> 01:00.000]  But that's their way of getting them out.\n"
     ]
    }
   ],
   "source": [
    "result = model.transcribe(\"short.mp3\", verbose=True)"
   ],
   "metadata": {
    "collapsed": false
   }
  },
  {
   "cell_type": "code",
   "execution_count": 5,
   "outputs": [
    {
     "data": {
      "text/plain": "dict_keys(['text', 'segments', 'language'])"
     },
     "execution_count": 5,
     "metadata": {},
     "output_type": "execute_result"
    }
   ],
   "source": [
    "result.keys()"
   ],
   "metadata": {
    "collapsed": false
   }
  },
  {
   "cell_type": "code",
   "execution_count": 35,
   "outputs": [],
   "source": [
    "segment = json.load(open(\"2.json\", \"r\"))"
   ],
   "metadata": {
    "collapsed": false
   }
  },
  {
   "cell_type": "code",
   "execution_count": 11,
   "outputs": [],
   "source": [
    "segment = result['segments']\n",
    "\n",
    "output = [f\"{entry['start']}-{entry['end']}:{entry['text']}\" for entry in segment]\n"
   ],
   "metadata": {
    "collapsed": false
   }
  },
  {
   "cell_type": "code",
   "execution_count": 13,
   "outputs": [],
   "source": [
    "import re"
   ],
   "metadata": {
    "collapsed": false
   }
  },
  {
   "cell_type": "code",
   "execution_count": 37,
   "outputs": [],
   "source": [
    "with open(\"2.txt\", \"r\") as f:\n",
    "    lines = f.readlines()"
   ],
   "metadata": {
    "collapsed": false
   }
  },
  {
   "cell_type": "code",
   "execution_count": 18,
   "outputs": [],
   "source": [
    "def convert_to_seconds(time_str):\n",
    "    h, m, s = time_str.split(\":\")\n",
    "    return int(h) * 3600 + int(m) * 60 + float(s)"
   ],
   "metadata": {
    "collapsed": false
   }
  },
  {
   "cell_type": "code",
   "execution_count": 38,
   "outputs": [],
   "source": [
    "# Parse speaker label file\n",
    "speaker_segments = []\n",
    "for line in lines:\n",
    "    match = re.match(r\"(.*?)\\s(\\d{2}:\\d{2}:\\d{2}\\.\\d{3}) --> (\\d{2}:\\d{2}:\\d{2}\\.\\d{3})\", line)\n",
    "    if match:\n",
    "        speaker = match.group(1)\n",
    "        start = match.group(2)\n",
    "        end = match.group(3)\n",
    "        # Convert timestamp to seconds\n",
    "        start_seconds = convert_to_seconds(start)\n",
    "        end_seconds = convert_to_seconds(end)\n",
    "        speaker_segments.append((start_seconds, end_seconds, speaker))"
   ],
   "metadata": {
    "collapsed": false
   }
  },
  {
   "cell_type": "code",
   "execution_count": 39,
   "outputs": [],
   "source": [
    "# Assuming 'result' is your dictionary\n",
    "# segment = result['segments']\n",
    "\n",
    "# Add speaker name to segments\n",
    "i = 0  # Index for 'segment'\n",
    "j = 0  # Index for 'speaker_segments'\n",
    "\n",
    "while i < len(segment) and j < len(speaker_segments):\n",
    "    start = segment[i]['start']\n",
    "    end = segment[i]['end']\n",
    "    speaker_start, speaker_end, speaker = speaker_segments[j]\n",
    "\n",
    "    # Calculate dynamic tolerance as half the minimum gap to the next or previous end time\n",
    "    next_end = segment[i+1]['end'] if i+1 < len(segment) else float('inf')\n",
    "    prev_end = segment[i-1]['end'] if i-1 >= 0 else float('-inf')\n",
    "    tolerance = min(next_end - end, end - prev_end) / 2.0\n",
    "    segment[i]['speaker'] = speaker\n",
    "\n",
    "    if abs(end - speaker_end) <= tolerance:  # Case 1: Entries match\n",
    "        i += 1\n",
    "        j += 1\n",
    "    elif end > speaker_end:  # Case 2: One entry in 'segment' matches multiple in 'speaker_segments'\n",
    "        j += 1\n",
    "    else:  # Case 3: Multiple entries in 'segment' match one in 'speaker_segments'\n",
    "        i += 1"
   ],
   "metadata": {
    "collapsed": false
   }
  },
  {
   "cell_type": "code",
   "execution_count": 24,
   "outputs": [
    {
     "data": {
      "text/plain": "[(1.42, 9.7, 'Doug (External)'),\n (9.78, 14.82, 'JEFF ROGERS (IBM)'),\n (14.86, 21.14, 'Doug (External)'),\n (21.22, 23.14, 'JEFF ROGERS (IBM)'),\n (24.74, 39.9, 'Matt McDonald (External)'),\n (40.42, 42.34, 'Doug (External)'),\n (42.34, 54.5, 'Matt McDonald (External)'),\n (56.42, 59.62, 'BO WEN (IBM)')]"
     },
     "execution_count": 24,
     "metadata": {},
     "output_type": "execute_result"
    }
   ],
   "source": [
    "speaker_segments"
   ],
   "metadata": {
    "collapsed": false
   }
  },
  {
   "cell_type": "code",
   "execution_count": 40,
   "outputs": [],
   "source": [
    "output = [f\"{entry['speaker']}@{entry['start']}-{entry['end']}:{entry['text']}\" for entry in segment]\n"
   ],
   "metadata": {
    "collapsed": false
   }
  }
 ],
 "metadata": {
  "kernelspec": {
   "display_name": "Python 3",
   "language": "python",
   "name": "python3"
  },
  "language_info": {
   "codemirror_mode": {
    "name": "ipython",
    "version": 2
   },
   "file_extension": ".py",
   "mimetype": "text/x-python",
   "name": "python",
   "nbconvert_exporter": "python",
   "pygments_lexer": "ipython2",
   "version": "2.7.6"
  }
 },
 "nbformat": 4,
 "nbformat_minor": 0
}
